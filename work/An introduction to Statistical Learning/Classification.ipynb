{
 "cells": [
  {
   "cell_type": "markdown",
   "id": "7404eeb1-37ce-45f4-b2f4-e2209f44e441",
   "metadata": {
    "tags": []
   },
   "source": [
    "# Classification"
   ]
  },
  {
   "cell_type": "code",
   "execution_count": 3,
   "id": "a32deb85-de0e-489c-8d9e-5be1c1f9f36e",
   "metadata": {
    "tags": []
   },
   "outputs": [
    {
     "name": "stderr",
     "output_type": "stream",
     "text": [
      "Updating HTML index of packages in '.Library'\n",
      "\n",
      "Making 'packages.html' ...\n",
      " done\n",
      "\n"
     ]
    },
    {
     "ename": "ERROR",
     "evalue": "Error in !install.packages(\"ISLR\"): invalid argument type\n",
     "output_type": "error",
     "traceback": [
      "Error in !install.packages(\"ISLR\"): invalid argument type\nTraceback:\n"
     ]
    }
   ],
   "source": [
    "!install.packages('ISLR')"
   ]
  },
  {
   "cell_type": "markdown",
   "id": "483872e4-79d0-4fe3-8523-b35df5c11cbb",
   "metadata": {},
   "source": [
    "**Methods**\n",
    "\n",
    "1. logistic regression\n",
    "2. linear discriminant analysis\n",
    "3. K-nearest neighbors."
   ]
  },
  {
   "cell_type": "code",
   "execution_count": 4,
   "id": "40738687-4c71-40b3-a094-af1b2e91303f",
   "metadata": {
    "tags": []
   },
   "outputs": [],
   "source": [
    "library(ISLR)"
   ]
  },
  {
   "cell_type": "code",
   "execution_count": 32,
   "id": "8dd06a1f-8d13-4c30-8961-121d2bb38f49",
   "metadata": {
    "tags": []
   },
   "outputs": [],
   "source": [
    "library(MASS)"
   ]
  },
  {
   "cell_type": "code",
   "execution_count": 41,
   "id": "5e156fa5-71b2-40dd-994b-3daafa7ed396",
   "metadata": {
    "tags": []
   },
   "outputs": [],
   "source": [
    "library(class)"
   ]
  },
  {
   "cell_type": "code",
   "execution_count": 7,
   "id": "87e6b477-8c25-4b30-88fd-af230dfbd0f0",
   "metadata": {
    "tags": []
   },
   "outputs": [
    {
     "data": {
      "text/html": [
       "<style>\n",
       ".list-inline {list-style: none; margin:0; padding: 0}\n",
       ".list-inline>li {display: inline-block}\n",
       ".list-inline>li:not(:last-child)::after {content: \"\\00b7\"; padding: 0 .5ex}\n",
       "</style>\n",
       "<ol class=list-inline><li>'Year'</li><li>'Lag1'</li><li>'Lag2'</li><li>'Lag3'</li><li>'Lag4'</li><li>'Lag5'</li><li>'Volume'</li><li>'Today'</li><li>'Direction'</li></ol>\n"
      ],
      "text/latex": [
       "\\begin{enumerate*}\n",
       "\\item 'Year'\n",
       "\\item 'Lag1'\n",
       "\\item 'Lag2'\n",
       "\\item 'Lag3'\n",
       "\\item 'Lag4'\n",
       "\\item 'Lag5'\n",
       "\\item 'Volume'\n",
       "\\item 'Today'\n",
       "\\item 'Direction'\n",
       "\\end{enumerate*}\n"
      ],
      "text/markdown": [
       "1. 'Year'\n",
       "2. 'Lag1'\n",
       "3. 'Lag2'\n",
       "4. 'Lag3'\n",
       "5. 'Lag4'\n",
       "6. 'Lag5'\n",
       "7. 'Volume'\n",
       "8. 'Today'\n",
       "9. 'Direction'\n",
       "\n",
       "\n"
      ],
      "text/plain": [
       "[1] \"Year\"      \"Lag1\"      \"Lag2\"      \"Lag3\"      \"Lag4\"      \"Lag5\"     \n",
       "[7] \"Volume\"    \"Today\"     \"Direction\""
      ]
     },
     "metadata": {},
     "output_type": "display_data"
    }
   ],
   "source": [
    "names(Smarket)"
   ]
  },
  {
   "cell_type": "code",
   "execution_count": 8,
   "id": "0d14ea5a-7eae-467f-b4e0-3ef3c796e5a4",
   "metadata": {
    "tags": []
   },
   "outputs": [
    {
     "data": {
      "text/html": [
       "<style>\n",
       ".list-inline {list-style: none; margin:0; padding: 0}\n",
       ".list-inline>li {display: inline-block}\n",
       ".list-inline>li:not(:last-child)::after {content: \"\\00b7\"; padding: 0 .5ex}\n",
       "</style>\n",
       "<ol class=list-inline><li>1250</li><li>9</li></ol>\n"
      ],
      "text/latex": [
       "\\begin{enumerate*}\n",
       "\\item 1250\n",
       "\\item 9\n",
       "\\end{enumerate*}\n"
      ],
      "text/markdown": [
       "1. 1250\n",
       "2. 9\n",
       "\n",
       "\n"
      ],
      "text/plain": [
       "[1] 1250    9"
      ]
     },
     "metadata": {},
     "output_type": "display_data"
    }
   ],
   "source": [
    "dim(Smarket)"
   ]
  },
  {
   "cell_type": "code",
   "execution_count": 9,
   "id": "425f64f7-e160-408b-b2c9-e00975a34998",
   "metadata": {
    "tags": []
   },
   "outputs": [
    {
     "data": {
      "text/plain": [
       "      Year           Lag1                Lag2                Lag3          \n",
       " Min.   :2001   Min.   :-4.922000   Min.   :-4.922000   Min.   :-4.922000  \n",
       " 1st Qu.:2002   1st Qu.:-0.639500   1st Qu.:-0.639500   1st Qu.:-0.640000  \n",
       " Median :2003   Median : 0.039000   Median : 0.039000   Median : 0.038500  \n",
       " Mean   :2003   Mean   : 0.003834   Mean   : 0.003919   Mean   : 0.001716  \n",
       " 3rd Qu.:2004   3rd Qu.: 0.596750   3rd Qu.: 0.596750   3rd Qu.: 0.596750  \n",
       " Max.   :2005   Max.   : 5.733000   Max.   : 5.733000   Max.   : 5.733000  \n",
       "      Lag4                Lag5              Volume           Today          \n",
       " Min.   :-4.922000   Min.   :-4.92200   Min.   :0.3561   Min.   :-4.922000  \n",
       " 1st Qu.:-0.640000   1st Qu.:-0.64000   1st Qu.:1.2574   1st Qu.:-0.639500  \n",
       " Median : 0.038500   Median : 0.03850   Median :1.4229   Median : 0.038500  \n",
       " Mean   : 0.001636   Mean   : 0.00561   Mean   :1.4783   Mean   : 0.003138  \n",
       " 3rd Qu.: 0.596750   3rd Qu.: 0.59700   3rd Qu.:1.6417   3rd Qu.: 0.596750  \n",
       " Max.   : 5.733000   Max.   : 5.73300   Max.   :3.1525   Max.   : 5.733000  \n",
       " Direction \n",
       " Down:602  \n",
       " Up  :648  \n",
       "           \n",
       "           \n",
       "           \n",
       "           "
      ]
     },
     "metadata": {},
     "output_type": "display_data"
    }
   ],
   "source": [
    "summary(Smarket)"
   ]
  },
  {
   "cell_type": "code",
   "execution_count": 11,
   "id": "3b64effc-399f-46e3-8a92-19de913c4946",
   "metadata": {
    "tags": []
   },
   "outputs": [
    {
     "data": {
      "text/html": [
       "<table class=\"dataframe\">\n",
       "<caption>A matrix: 8 × 8 of type dbl</caption>\n",
       "<thead>\n",
       "\t<tr><th></th><th scope=col>Year</th><th scope=col>Lag1</th><th scope=col>Lag2</th><th scope=col>Lag3</th><th scope=col>Lag4</th><th scope=col>Lag5</th><th scope=col>Volume</th><th scope=col>Today</th></tr>\n",
       "</thead>\n",
       "<tbody>\n",
       "\t<tr><th scope=row>Year</th><td>1.00000000</td><td> 0.029699649</td><td> 0.030596422</td><td> 0.033194581</td><td> 0.035688718</td><td> 0.029787995</td><td> 0.53900647</td><td> 0.030095229</td></tr>\n",
       "\t<tr><th scope=row>Lag1</th><td>0.02969965</td><td> 1.000000000</td><td>-0.026294328</td><td>-0.010803402</td><td>-0.002985911</td><td>-0.005674606</td><td> 0.04090991</td><td>-0.026155045</td></tr>\n",
       "\t<tr><th scope=row>Lag2</th><td>0.03059642</td><td>-0.026294328</td><td> 1.000000000</td><td>-0.025896670</td><td>-0.010853533</td><td>-0.003557949</td><td>-0.04338321</td><td>-0.010250033</td></tr>\n",
       "\t<tr><th scope=row>Lag3</th><td>0.03319458</td><td>-0.010803402</td><td>-0.025896670</td><td> 1.000000000</td><td>-0.024051036</td><td>-0.018808338</td><td>-0.04182369</td><td>-0.002447647</td></tr>\n",
       "\t<tr><th scope=row>Lag4</th><td>0.03568872</td><td>-0.002985911</td><td>-0.010853533</td><td>-0.024051036</td><td> 1.000000000</td><td>-0.027083641</td><td>-0.04841425</td><td>-0.006899527</td></tr>\n",
       "\t<tr><th scope=row>Lag5</th><td>0.02978799</td><td>-0.005674606</td><td>-0.003557949</td><td>-0.018808338</td><td>-0.027083641</td><td> 1.000000000</td><td>-0.02200231</td><td>-0.034860083</td></tr>\n",
       "\t<tr><th scope=row>Volume</th><td>0.53900647</td><td> 0.040909908</td><td>-0.043383215</td><td>-0.041823686</td><td>-0.048414246</td><td>-0.022002315</td><td> 1.00000000</td><td> 0.014591823</td></tr>\n",
       "\t<tr><th scope=row>Today</th><td>0.03009523</td><td>-0.026155045</td><td>-0.010250033</td><td>-0.002447647</td><td>-0.006899527</td><td>-0.034860083</td><td> 0.01459182</td><td> 1.000000000</td></tr>\n",
       "</tbody>\n",
       "</table>\n"
      ],
      "text/latex": [
       "A matrix: 8 × 8 of type dbl\n",
       "\\begin{tabular}{r|llllllll}\n",
       "  & Year & Lag1 & Lag2 & Lag3 & Lag4 & Lag5 & Volume & Today\\\\\n",
       "\\hline\n",
       "\tYear & 1.00000000 &  0.029699649 &  0.030596422 &  0.033194581 &  0.035688718 &  0.029787995 &  0.53900647 &  0.030095229\\\\\n",
       "\tLag1 & 0.02969965 &  1.000000000 & -0.026294328 & -0.010803402 & -0.002985911 & -0.005674606 &  0.04090991 & -0.026155045\\\\\n",
       "\tLag2 & 0.03059642 & -0.026294328 &  1.000000000 & -0.025896670 & -0.010853533 & -0.003557949 & -0.04338321 & -0.010250033\\\\\n",
       "\tLag3 & 0.03319458 & -0.010803402 & -0.025896670 &  1.000000000 & -0.024051036 & -0.018808338 & -0.04182369 & -0.002447647\\\\\n",
       "\tLag4 & 0.03568872 & -0.002985911 & -0.010853533 & -0.024051036 &  1.000000000 & -0.027083641 & -0.04841425 & -0.006899527\\\\\n",
       "\tLag5 & 0.02978799 & -0.005674606 & -0.003557949 & -0.018808338 & -0.027083641 &  1.000000000 & -0.02200231 & -0.034860083\\\\\n",
       "\tVolume & 0.53900647 &  0.040909908 & -0.043383215 & -0.041823686 & -0.048414246 & -0.022002315 &  1.00000000 &  0.014591823\\\\\n",
       "\tToday & 0.03009523 & -0.026155045 & -0.010250033 & -0.002447647 & -0.006899527 & -0.034860083 &  0.01459182 &  1.000000000\\\\\n",
       "\\end{tabular}\n"
      ],
      "text/markdown": [
       "\n",
       "A matrix: 8 × 8 of type dbl\n",
       "\n",
       "| <!--/--> | Year | Lag1 | Lag2 | Lag3 | Lag4 | Lag5 | Volume | Today |\n",
       "|---|---|---|---|---|---|---|---|---|\n",
       "| Year | 1.00000000 |  0.029699649 |  0.030596422 |  0.033194581 |  0.035688718 |  0.029787995 |  0.53900647 |  0.030095229 |\n",
       "| Lag1 | 0.02969965 |  1.000000000 | -0.026294328 | -0.010803402 | -0.002985911 | -0.005674606 |  0.04090991 | -0.026155045 |\n",
       "| Lag2 | 0.03059642 | -0.026294328 |  1.000000000 | -0.025896670 | -0.010853533 | -0.003557949 | -0.04338321 | -0.010250033 |\n",
       "| Lag3 | 0.03319458 | -0.010803402 | -0.025896670 |  1.000000000 | -0.024051036 | -0.018808338 | -0.04182369 | -0.002447647 |\n",
       "| Lag4 | 0.03568872 | -0.002985911 | -0.010853533 | -0.024051036 |  1.000000000 | -0.027083641 | -0.04841425 | -0.006899527 |\n",
       "| Lag5 | 0.02978799 | -0.005674606 | -0.003557949 | -0.018808338 | -0.027083641 |  1.000000000 | -0.02200231 | -0.034860083 |\n",
       "| Volume | 0.53900647 |  0.040909908 | -0.043383215 | -0.041823686 | -0.048414246 | -0.022002315 |  1.00000000 |  0.014591823 |\n",
       "| Today | 0.03009523 | -0.026155045 | -0.010250033 | -0.002447647 | -0.006899527 | -0.034860083 |  0.01459182 |  1.000000000 |\n",
       "\n"
      ],
      "text/plain": [
       "       Year       Lag1         Lag2         Lag3         Lag4        \n",
       "Year   1.00000000  0.029699649  0.030596422  0.033194581  0.035688718\n",
       "Lag1   0.02969965  1.000000000 -0.026294328 -0.010803402 -0.002985911\n",
       "Lag2   0.03059642 -0.026294328  1.000000000 -0.025896670 -0.010853533\n",
       "Lag3   0.03319458 -0.010803402 -0.025896670  1.000000000 -0.024051036\n",
       "Lag4   0.03568872 -0.002985911 -0.010853533 -0.024051036  1.000000000\n",
       "Lag5   0.02978799 -0.005674606 -0.003557949 -0.018808338 -0.027083641\n",
       "Volume 0.53900647  0.040909908 -0.043383215 -0.041823686 -0.048414246\n",
       "Today  0.03009523 -0.026155045 -0.010250033 -0.002447647 -0.006899527\n",
       "       Lag5         Volume      Today       \n",
       "Year    0.029787995  0.53900647  0.030095229\n",
       "Lag1   -0.005674606  0.04090991 -0.026155045\n",
       "Lag2   -0.003557949 -0.04338321 -0.010250033\n",
       "Lag3   -0.018808338 -0.04182369 -0.002447647\n",
       "Lag4   -0.027083641 -0.04841425 -0.006899527\n",
       "Lag5    1.000000000 -0.02200231 -0.034860083\n",
       "Volume -0.022002315  1.00000000  0.014591823\n",
       "Today  -0.034860083  0.01459182  1.000000000"
      ]
     },
     "metadata": {},
     "output_type": "display_data"
    }
   ],
   "source": [
    "cor(Smarket[,-9])"
   ]
  },
  {
   "cell_type": "code",
   "execution_count": 12,
   "id": "e30e3b9a-810e-494d-a750-57844b809dfd",
   "metadata": {
    "tags": []
   },
   "outputs": [],
   "source": [
    "attach(Smarket)"
   ]
  },
  {
   "cell_type": "code",
   "execution_count": 13,
   "id": "410795ab-7c41-4fe8-8124-3ae25417f0af",
   "metadata": {
    "tags": []
   },
   "outputs": [
    {
     "data": {
      "image/png": "[encoded data removed]",
      "text/plain": [
       "plot without title"
      ]
     },
     "metadata": {
      "image/png": {
       "height": 420,
       "width": 420
      }
     },
     "output_type": "display_data"
    }
   ],
   "source": [
    "plot(Smarket)"
   ]
  },
  {
   "cell_type": "markdown",
   "id": "fb4ca066-e91e-46bd-b466-6600f915375b",
   "metadata": {
    "tags": []
   },
   "source": [
    "## Logistic Regression"
   ]
  },
  {
   "cell_type": "code",
   "execution_count": 16,
   "id": "40232310-1081-42fc-8779-9821c9d6b471",
   "metadata": {
    "tags": []
   },
   "outputs": [
    {
     "data": {
      "text/plain": [
       "\n",
       "Call:\n",
       "glm(formula = Direction ~ Lag1 + Lag2 + Lag3 + Lag4 + Lag5 + \n",
       "    Volume, family = binomial, data = Smarket)\n",
       "\n",
       "Deviance Residuals: \n",
       "   Min      1Q  Median      3Q     Max  \n",
       "-1.446  -1.203   1.065   1.145   1.326  \n",
       "\n",
       "Coefficients:\n",
       "             Estimate Std. Error z value Pr(>|z|)\n",
       "(Intercept) -0.126000   0.240736  -0.523    0.601\n",
       "Lag1        -0.073074   0.050167  -1.457    0.145\n",
       "Lag2        -0.042301   0.050086  -0.845    0.398\n",
       "Lag3         0.011085   0.049939   0.222    0.824\n",
       "Lag4         0.009359   0.049974   0.187    0.851\n",
       "Lag5         0.010313   0.049511   0.208    0.835\n",
       "Volume       0.135441   0.158360   0.855    0.392\n",
       "\n",
       "(Dispersion parameter for binomial family taken to be 1)\n",
       "\n",
       "    Null deviance: 1731.2  on 1249  degrees of freedom\n",
       "Residual deviance: 1727.6  on 1243  degrees of freedom\n",
       "AIC: 1741.6\n",
       "\n",
       "Number of Fisher Scoring iterations: 3\n"
      ]
     },
     "metadata": {},
     "output_type": "display_data"
    }
   ],
   "source": [
    "glm.fit=glm(Direction ~ Lag1 + Lag2 + Lag3 + Lag4 + Lag5 + Volume, data=Smarket, family = binomial)\n",
    "summary(glm.fit)"
   ]
  },
  {
   "cell_type": "code",
   "execution_count": 18,
   "id": "8aaec1fc-7c0e-4da8-8168-9bb820b57015",
   "metadata": {
    "tags": []
   },
   "outputs": [
    {
     "data": {
      "text/html": [
       "<table class=\"dataframe\">\n",
       "<caption>A matrix: 7 × 4 of type dbl</caption>\n",
       "<thead>\n",
       "\t<tr><th></th><th scope=col>Estimate</th><th scope=col>Std. Error</th><th scope=col>z value</th><th scope=col>Pr(&gt;|z|)</th></tr>\n",
       "</thead>\n",
       "<tbody>\n",
       "\t<tr><th scope=row>(Intercept)</th><td>-0.126000257</td><td>0.24073574</td><td>-0.5233966</td><td>0.6006983</td></tr>\n",
       "\t<tr><th scope=row>Lag1</th><td>-0.073073746</td><td>0.05016739</td><td>-1.4565986</td><td>0.1452272</td></tr>\n",
       "\t<tr><th scope=row>Lag2</th><td>-0.042301344</td><td>0.05008605</td><td>-0.8445733</td><td>0.3983491</td></tr>\n",
       "\t<tr><th scope=row>Lag3</th><td> 0.011085108</td><td>0.04993854</td><td> 0.2219750</td><td>0.8243333</td></tr>\n",
       "\t<tr><th scope=row>Lag4</th><td> 0.009358938</td><td>0.04997413</td><td> 0.1872757</td><td>0.8514445</td></tr>\n",
       "\t<tr><th scope=row>Lag5</th><td> 0.010313068</td><td>0.04951146</td><td> 0.2082966</td><td>0.8349974</td></tr>\n",
       "\t<tr><th scope=row>Volume</th><td> 0.135440659</td><td>0.15835970</td><td> 0.8552723</td><td>0.3924004</td></tr>\n",
       "</tbody>\n",
       "</table>\n"
      ],
      "text/latex": [
       "A matrix: 7 × 4 of type dbl\n",
       "\\begin{tabular}{r|llll}\n",
       "  & Estimate & Std. Error & z value & Pr(>\\textbar{}z\\textbar{})\\\\\n",
       "\\hline\n",
       "\t(Intercept) & -0.126000257 & 0.24073574 & -0.5233966 & 0.6006983\\\\\n",
       "\tLag1 & -0.073073746 & 0.05016739 & -1.4565986 & 0.1452272\\\\\n",
       "\tLag2 & -0.042301344 & 0.05008605 & -0.8445733 & 0.3983491\\\\\n",
       "\tLag3 &  0.011085108 & 0.04993854 &  0.2219750 & 0.8243333\\\\\n",
       "\tLag4 &  0.009358938 & 0.04997413 &  0.1872757 & 0.8514445\\\\\n",
       "\tLag5 &  0.010313068 & 0.04951146 &  0.2082966 & 0.8349974\\\\\n",
       "\tVolume &  0.135440659 & 0.15835970 &  0.8552723 & 0.3924004\\\\\n",
       "\\end{tabular}\n"
      ],
      "text/markdown": [
       "\n",
       "A matrix: 7 × 4 of type dbl\n",
       "\n",
       "| <!--/--> | Estimate | Std. Error | z value | Pr(&gt;|z|) |\n",
       "|---|---|---|---|---|\n",
       "| (Intercept) | -0.126000257 | 0.24073574 | -0.5233966 | 0.6006983 |\n",
       "| Lag1 | -0.073073746 | 0.05016739 | -1.4565986 | 0.1452272 |\n",
       "| Lag2 | -0.042301344 | 0.05008605 | -0.8445733 | 0.3983491 |\n",
       "| Lag3 |  0.011085108 | 0.04993854 |  0.2219750 | 0.8243333 |\n",
       "| Lag4 |  0.009358938 | 0.04997413 |  0.1872757 | 0.8514445 |\n",
       "| Lag5 |  0.010313068 | 0.04951146 |  0.2082966 | 0.8349974 |\n",
       "| Volume |  0.135440659 | 0.15835970 |  0.8552723 | 0.3924004 |\n",
       "\n"
      ],
      "text/plain": [
       "            Estimate     Std. Error z value    Pr(>|z|) \n",
       "(Intercept) -0.126000257 0.24073574 -0.5233966 0.6006983\n",
       "Lag1        -0.073073746 0.05016739 -1.4565986 0.1452272\n",
       "Lag2        -0.042301344 0.05008605 -0.8445733 0.3983491\n",
       "Lag3         0.011085108 0.04993854  0.2219750 0.8243333\n",
       "Lag4         0.009358938 0.04997413  0.1872757 0.8514445\n",
       "Lag5         0.010313068 0.04951146  0.2082966 0.8349974\n",
       "Volume       0.135440659 0.15835970  0.8552723 0.3924004"
      ]
     },
     "metadata": {},
     "output_type": "display_data"
    }
   ],
   "source": [
    "summary(glm.fit)$coef"
   ]
  },
  {
   "cell_type": "code",
   "execution_count": 20,
   "id": "b2dbedec-96a1-4ed4-8292-cf32786613c1",
   "metadata": {
    "tags": []
   },
   "outputs": [],
   "source": [
    "glm.probs = predict (glm.fit, type = \"response\")"
   ]
  },
  {
   "cell_type": "code",
   "execution_count": 21,
   "id": "e02b9b39-cc82-468a-aa27-159a1196c343",
   "metadata": {
    "tags": []
   },
   "outputs": [
    {
     "data": {
      "text/html": [
       "<style>\n",
       ".dl-inline {width: auto; margin:0; padding: 0}\n",
       ".dl-inline>dt, .dl-inline>dd {float: none; width: auto; display: inline-block}\n",
       ".dl-inline>dt::after {content: \":\\0020\"; padding-right: .5ex}\n",
       ".dl-inline>dt:not(:first-of-type) {padding-left: .5ex}\n",
       "</style><dl class=dl-inline><dt>1</dt><dd>0.507084133395402</dd><dt>2</dt><dd>0.481467878454591</dd><dt>3</dt><dd>0.481138835214201</dd><dt>4</dt><dd>0.515222355813022</dd><dt>5</dt><dd>0.510781162691538</dd><dt>6</dt><dd>0.506956460534911</dd><dt>7</dt><dd>0.492650874187038</dd><dt>8</dt><dd>0.509229158207377</dd><dt>9</dt><dd>0.517613526170958</dd><dt>10</dt><dd>0.488837779771376</dd></dl>\n"
      ],
      "text/latex": [
       "\\begin{description*}\n",
       "\\item[1] 0.507084133395402\n",
       "\\item[2] 0.481467878454591\n",
       "\\item[3] 0.481138835214201\n",
       "\\item[4] 0.515222355813022\n",
       "\\item[5] 0.510781162691538\n",
       "\\item[6] 0.506956460534911\n",
       "\\item[7] 0.492650874187038\n",
       "\\item[8] 0.509229158207377\n",
       "\\item[9] 0.517613526170958\n",
       "\\item[10] 0.488837779771376\n",
       "\\end{description*}\n"
      ],
      "text/markdown": [
       "1\n",
       ":   0.5070841333954022\n",
       ":   0.4814678784545913\n",
       ":   0.4811388352142014\n",
       ":   0.5152223558130225\n",
       ":   0.5107811626915386\n",
       ":   0.5069564605349117\n",
       ":   0.4926508741870388\n",
       ":   0.5092291582073779\n",
       ":   0.51761352617095810\n",
       ":   0.488837779771376\n",
       "\n"
      ],
      "text/plain": [
       "        1         2         3         4         5         6         7         8 \n",
       "0.5070841 0.4814679 0.4811388 0.5152224 0.5107812 0.5069565 0.4926509 0.5092292 \n",
       "        9        10 \n",
       "0.5176135 0.4888378 "
      ]
     },
     "metadata": {},
     "output_type": "display_data"
    }
   ],
   "source": [
    "glm.probs[1:10]"
   ]
  },
  {
   "cell_type": "code",
   "execution_count": 22,
   "id": "7f9c67f0-8aba-4e51-97a8-963ba3508d83",
   "metadata": {
    "tags": []
   },
   "outputs": [
    {
     "data": {
      "text/html": [
       "<table class=\"dataframe\">\n",
       "<caption>A matrix: 2 × 1 of type dbl</caption>\n",
       "<thead>\n",
       "\t<tr><th></th><th scope=col>Up</th></tr>\n",
       "</thead>\n",
       "<tbody>\n",
       "\t<tr><th scope=row>Down</th><td>0</td></tr>\n",
       "\t<tr><th scope=row>Up</th><td>1</td></tr>\n",
       "</tbody>\n",
       "</table>\n"
      ],
      "text/latex": [
       "A matrix: 2 × 1 of type dbl\n",
       "\\begin{tabular}{r|l}\n",
       "  & Up\\\\\n",
       "\\hline\n",
       "\tDown & 0\\\\\n",
       "\tUp & 1\\\\\n",
       "\\end{tabular}\n"
      ],
      "text/markdown": [
       "\n",
       "A matrix: 2 × 1 of type dbl\n",
       "\n",
       "| <!--/--> | Up |\n",
       "|---|---|\n",
       "| Down | 0 |\n",
       "| Up | 1 |\n",
       "\n"
      ],
      "text/plain": [
       "     Up\n",
       "Down 0 \n",
       "Up   1 "
      ]
     },
     "metadata": {},
     "output_type": "display_data"
    }
   ],
   "source": [
    "contrasts(Direction)"
   ]
  },
  {
   "cell_type": "code",
   "execution_count": 23,
   "id": "55077d8b-f1a0-4565-8e47-f745d774530e",
   "metadata": {
    "tags": []
   },
   "outputs": [],
   "source": [
    "glm.pred=rep(\"Down \", 1250)\n",
    "glm.pred[glm.probs > .5]=\"Up\""
   ]
  },
  {
   "cell_type": "code",
   "execution_count": 24,
   "id": "4ba00e80-5475-4293-84f2-19b446a73a06",
   "metadata": {
    "tags": []
   },
   "outputs": [
    {
     "data": {
      "text/plain": [
       "        Direction\n",
       "glm.pred Down  Up\n",
       "   Down   145 141\n",
       "   Up     457 507"
      ]
     },
     "metadata": {},
     "output_type": "display_data"
    }
   ],
   "source": [
    "table(glm.pred, Direction)"
   ]
  },
  {
   "cell_type": "code",
   "execution_count": 26,
   "id": "1933383c-f8e4-4b04-96c7-9591d46caf81",
   "metadata": {
    "tags": []
   },
   "outputs": [
    {
     "data": {
      "text/html": [
       "0.4056"
      ],
      "text/latex": [
       "0.4056"
      ],
      "text/markdown": [
       "0.4056"
      ],
      "text/plain": [
       "[1] 0.4056"
      ]
     },
     "metadata": {},
     "output_type": "display_data"
    }
   ],
   "source": [
    "mean(glm.pred == Direction)"
   ]
  },
  {
   "cell_type": "code",
   "execution_count": 27,
   "id": "963ab2af-b3e6-4896-a4d3-247d16d9dd3c",
   "metadata": {
    "tags": []
   },
   "outputs": [
    {
     "data": {
      "text/html": [
       "<style>\n",
       ".list-inline {list-style: none; margin:0; padding: 0}\n",
       ".list-inline>li {display: inline-block}\n",
       ".list-inline>li:not(:last-child)::after {content: \"\\00b7\"; padding: 0 .5ex}\n",
       "</style>\n",
       "<ol class=list-inline><li>252</li><li>9</li></ol>\n"
      ],
      "text/latex": [
       "\\begin{enumerate*}\n",
       "\\item 252\n",
       "\\item 9\n",
       "\\end{enumerate*}\n"
      ],
      "text/markdown": [
       "1. 252\n",
       "2. 9\n",
       "\n",
       "\n"
      ],
      "text/plain": [
       "[1] 252   9"
      ]
     },
     "metadata": {},
     "output_type": "display_data"
    }
   ],
   "source": [
    "train = (Year < 2005)\n",
    "Smarket.2005= Smarket[!train,]\n",
    "dim(Smarket.2005)"
   ]
  },
  {
   "cell_type": "code",
   "execution_count": 28,
   "id": "b828d6c0-2be4-4a93-ac79-fcc2d0c26d8b",
   "metadata": {
    "tags": []
   },
   "outputs": [],
   "source": [
    "Direction.2005 = Direction[!train]"
   ]
  },
  {
   "cell_type": "code",
   "execution_count": 29,
   "id": "cc1cc52e-cf03-40dc-9cd9-dbc807103a8c",
   "metadata": {
    "tags": []
   },
   "outputs": [],
   "source": [
    "glm.fit = glm(Direction~Lag1+Lag2+Lag3+Lag4+Lag5+Volume, data=Smarket, family = binomial, subset = train )\n",
    "glm.probs = predict(glm.fit, Smarket.2005, type=\"response\")"
   ]
  },
  {
   "cell_type": "code",
   "execution_count": 31,
   "id": "91881c95-2827-4439-b0dd-3d4f2b52d71f",
   "metadata": {
    "tags": []
   },
   "outputs": [
    {
     "data": {
      "text/plain": [
       "        Direction.2005\n",
       "glm.pred Down Up\n",
       "    Down   77 97\n",
       "    Up     34 44"
      ]
     },
     "metadata": {},
     "output_type": "display_data"
    },
    {
     "data": {
      "text/html": [
       "0.48015873015873"
      ],
      "text/latex": [
       "0.48015873015873"
      ],
      "text/markdown": [
       "0.48015873015873"
      ],
      "text/plain": [
       "[1] 0.4801587"
      ]
     },
     "metadata": {},
     "output_type": "display_data"
    },
    {
     "data": {
      "text/html": [
       "0.51984126984127"
      ],
      "text/latex": [
       "0.51984126984127"
      ],
      "text/markdown": [
       "0.51984126984127"
      ],
      "text/plain": [
       "[1] 0.5198413"
      ]
     },
     "metadata": {},
     "output_type": "display_data"
    }
   ],
   "source": [
    "glm.pred=rep(\"Down\", 252)\n",
    "glm.pred[glm.probs > .5]=\"Up\"\n",
    "table(glm.pred, Direction.2005)\n",
    "mean(glm.pred == Direction.2005)\n",
    "mean(glm.pred != Direction.2005)"
   ]
  },
  {
   "cell_type": "markdown",
   "id": "12f4fe5d-2d24-4a3c-9b63-01a078df4a6a",
   "metadata": {},
   "source": [
    "## Linear discriminant analysis"
   ]
  },
  {
   "cell_type": "code",
   "execution_count": 34,
   "id": "fc513935-0d6c-4dd8-871a-b650016e7c5b",
   "metadata": {
    "tags": []
   },
   "outputs": [
    {
     "data": {
      "text/plain": [
       "Call:\n",
       "lda(Direction ~ Lag1 + Lag2, data = Smarket, subset = train)\n",
       "\n",
       "Prior probabilities of groups:\n",
       "    Down       Up \n",
       "0.491984 0.508016 \n",
       "\n",
       "Group means:\n",
       "            Lag1        Lag2\n",
       "Down  0.04279022  0.03389409\n",
       "Up   -0.03954635 -0.03132544\n",
       "\n",
       "Coefficients of linear discriminants:\n",
       "            LD1\n",
       "Lag1 -0.6420190\n",
       "Lag2 -0.5135293"
      ]
     },
     "metadata": {},
     "output_type": "display_data"
    },
    {
     "data": {
      "image/png": "[encoded data removed]",
      "text/plain": [
       "plot without title"
      ]
     },
     "metadata": {
      "image/png": {
       "height": 420,
       "width": 420
      }
     },
     "output_type": "display_data"
    }
   ],
   "source": [
    "lda.fit = lda(Direction~Lag1+Lag2 ,data=Smarket ,subset = train)\n",
    "lda.fit\n",
    "plot(lda.fit)"
   ]
  },
  {
   "cell_type": "code",
   "execution_count": 36,
   "id": "984535b5-863c-40af-b5f2-0d27d7276b13",
   "metadata": {
    "tags": []
   },
   "outputs": [
    {
     "data": {
      "text/html": [
       "<style>\n",
       ".list-inline {list-style: none; margin:0; padding: 0}\n",
       ".list-inline>li {display: inline-block}\n",
       ".list-inline>li:not(:last-child)::after {content: \"\\00b7\"; padding: 0 .5ex}\n",
       "</style>\n",
       "<ol class=list-inline><li>'class'</li><li>'posterior'</li><li>'x'</li></ol>\n"
      ],
      "text/latex": [
       "\\begin{enumerate*}\n",
       "\\item 'class'\n",
       "\\item 'posterior'\n",
       "\\item 'x'\n",
       "\\end{enumerate*}\n"
      ],
      "text/markdown": [
       "1. 'class'\n",
       "2. 'posterior'\n",
       "3. 'x'\n",
       "\n",
       "\n"
      ],
      "text/plain": [
       "[1] \"class\"     \"posterior\" \"x\"        "
      ]
     },
     "metadata": {},
     "output_type": "display_data"
    }
   ],
   "source": [
    "lda.pred=predict(lda.fit, Smarket.2005)\n",
    "names(lda.pred)"
   ]
  },
  {
   "cell_type": "code",
   "execution_count": 37,
   "id": "c2ca939f-521b-4ae9-8490-559600b7d298",
   "metadata": {
    "tags": []
   },
   "outputs": [
    {
     "data": {
      "text/plain": [
       "         Direction.2005\n",
       "lda.class Down  Up\n",
       "     Down   35  35\n",
       "     Up     76 106"
      ]
     },
     "metadata": {},
     "output_type": "display_data"
    },
    {
     "data": {
      "text/html": [
       "0.55952380952381"
      ],
      "text/latex": [
       "0.55952380952381"
      ],
      "text/markdown": [
       "0.55952380952381"
      ],
      "text/plain": [
       "[1] 0.5595238"
      ]
     },
     "metadata": {},
     "output_type": "display_data"
    }
   ],
   "source": [
    "lda.class =lda.pred$class\n",
    "table(lda.class, Direction.2005)\n",
    "mean(lda.class == Direction.2005)"
   ]
  },
  {
   "cell_type": "code",
   "execution_count": 38,
   "id": "9a49d9b1-bfac-4fba-b3d0-7252b81b2c10",
   "metadata": {
    "tags": []
   },
   "outputs": [
    {
     "data": {
      "text/html": [
       "70"
      ],
      "text/latex": [
       "70"
      ],
      "text/markdown": [
       "70"
      ],
      "text/plain": [
       "[1] 70"
      ]
     },
     "metadata": {},
     "output_type": "display_data"
    },
    {
     "data": {
      "text/html": [
       "182"
      ],
      "text/latex": [
       "182"
      ],
      "text/markdown": [
       "182"
      ],
      "text/plain": [
       "[1] 182"
      ]
     },
     "metadata": {},
     "output_type": "display_data"
    }
   ],
   "source": [
    "sum(lda.pred$posterior [ ,1] >= .5)\n",
    "sum(lda.pred$posterior [,1] < .5)\n"
   ]
  },
  {
   "cell_type": "markdown",
   "id": "df8aa9c4-994b-40ab-b862-36fc37e32ef2",
   "metadata": {},
   "source": [
    "## Quadratic Discriminant Analysis"
   ]
  },
  {
   "cell_type": "code",
   "execution_count": 39,
   "id": "a2d89be2-553e-47da-81e9-4295a9ec980c",
   "metadata": {
    "tags": []
   },
   "outputs": [
    {
     "data": {
      "text/plain": [
       "Call:\n",
       "qda(Direction ~ Lag1 + Lag2, data = Smarket, subset = train)\n",
       "\n",
       "Prior probabilities of groups:\n",
       "    Down       Up \n",
       "0.491984 0.508016 \n",
       "\n",
       "Group means:\n",
       "            Lag1        Lag2\n",
       "Down  0.04279022  0.03389409\n",
       "Up   -0.03954635 -0.03132544"
      ]
     },
     "metadata": {},
     "output_type": "display_data"
    }
   ],
   "source": [
    "qda.fit = qda(Direction ~ Lag1 + Lag2, data=Smarket, subset = train)\n",
    "qda.fit"
   ]
  },
  {
   "cell_type": "code",
   "execution_count": 40,
   "id": "1c6ee26c-3f93-4b44-bb43-c389aaa1b779",
   "metadata": {
    "tags": []
   },
   "outputs": [
    {
     "data": {
      "text/plain": [
       "         Direction.2005\n",
       "qda.class Down  Up\n",
       "     Down   30  20\n",
       "     Up     81 121"
      ]
     },
     "metadata": {},
     "output_type": "display_data"
    },
    {
     "data": {
      "text/html": [
       "0.599206349206349"
      ],
      "text/latex": [
       "0.599206349206349"
      ],
      "text/markdown": [
       "0.599206349206349"
      ],
      "text/plain": [
       "[1] 0.5992063"
      ]
     },
     "metadata": {},
     "output_type": "display_data"
    }
   ],
   "source": [
    "qda.class = predict(qda.fit, Smarket.2005)$class\n",
    "table(qda.class, Direction.2005)\n",
    "mean(qda.class == Direction.2005)\n"
   ]
  },
  {
   "cell_type": "markdown",
   "id": "a0f8edfa-ea33-4819-b0a5-1dfd86090925",
   "metadata": {},
   "source": [
    "## K-nearest neighbors"
   ]
  },
  {
   "cell_type": "code",
   "execution_count": 42,
   "id": "3b0db504-a380-4c3c-b5e3-5fcb587b2dfc",
   "metadata": {
    "tags": []
   },
   "outputs": [],
   "source": [
    "train.X = cbind(Lag1, Lag2)[train,]\n",
    "test.X = cbind(Lag1 ,Lag2)[!train,]\n",
    "train.Direction = Direction[train]"
   ]
  },
  {
   "cell_type": "code",
   "execution_count": 43,
   "id": "308a1c65-fca5-4971-8e09-a3053fc601ca",
   "metadata": {
    "tags": []
   },
   "outputs": [
    {
     "data": {
      "text/plain": [
       "        Direction.2005\n",
       "knn.pred Down Up\n",
       "    Down   43 58\n",
       "    Up     68 83"
      ]
     },
     "metadata": {},
     "output_type": "display_data"
    }
   ],
   "source": [
    "set.seed(1)\n",
    "knn.pred = knn(train.X, test.X, train.Direction, k = 1)\n",
    "table(knn.pred, Direction.2005)\n"
   ]
  },
  {
   "cell_type": "code",
   "execution_count": 46,
   "id": "de86908a-5768-4544-97a7-19328b38efd6",
   "metadata": {
    "tags": []
   },
   "outputs": [
    {
     "data": {
      "text/plain": [
       "        Direction.2005\n",
       "knn.pred Down Up\n",
       "    Down   48 54\n",
       "    Up     63 87"
      ]
     },
     "metadata": {},
     "output_type": "display_data"
    },
    {
     "data": {
      "text/html": [
       "0.535714285714286"
      ],
      "text/latex": [
       "0.535714285714286"
      ],
      "text/markdown": [
       "0.535714285714286"
      ],
      "text/plain": [
       "[1] 0.5357143"
      ]
     },
     "metadata": {},
     "output_type": "display_data"
    }
   ],
   "source": [
    "knn.pred = knn(train.X, test.X, train.Direction, k=3)\n",
    "table(knn.pred ,Direction.2005)\n",
    "\n",
    "mean(knn.pred == Direction.2005)\n"
   ]
  },
  {
   "cell_type": "code",
   "execution_count": null,
   "id": "20c9b0af-a945-45ee-9797-990a3c699604",
   "metadata": {},
   "outputs": [],
   "source": []
  }
 ],
 "metadata": {
  "kernelspec": {
   "display_name": "R",
   "language": "R",
   "name": "ir"
  },
  "language_info": {
   "codemirror_mode": "r",
   "file_extension": ".r",
   "mimetype": "text/x-r-source",
   "name": "R",
   "pygments_lexer": "r",
   "version": "4.2.3"
  }
 },
 "nbformat": 4,
 "nbformat_minor": 5
}
