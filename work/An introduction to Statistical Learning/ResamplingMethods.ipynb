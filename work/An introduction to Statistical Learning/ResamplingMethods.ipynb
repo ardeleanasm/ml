{
 "cells": [
  {
   "cell_type": "code",
   "execution_count": null,
   "id": "d1e48f58-3e3f-4e5f-8e96-71c149eebb54",
   "metadata": {
    "tags": []
   },
   "outputs": [],
   "source": [
    "!install.packages('ISLR')"
   ]
  },
  {
   "cell_type": "code",
   "execution_count": 27,
   "id": "2cfd5692-fd0e-41b5-a3f8-ab1ed0633100",
   "metadata": {
    "tags": []
   },
   "outputs": [],
   "source": [
    "library(ISLR)"
   ]
  },
  {
   "cell_type": "code",
   "execution_count": 16,
   "id": "656b90de-7c64-4b19-94e3-ca095afea6e0",
   "metadata": {
    "tags": []
   },
   "outputs": [
    {
     "name": "stderr",
     "output_type": "stream",
     "text": [
      "Updating HTML index of packages in '.Library'\n",
      "\n",
      "Making 'packages.html' ...\n",
      " done\n",
      "\n"
     ]
    },
    {
     "ename": "ERROR",
     "evalue": "Error in !install.packages(\"boot\"): invalid argument type\n",
     "output_type": "error",
     "traceback": [
      "Error in !install.packages(\"boot\"): invalid argument type\nTraceback:\n"
     ]
    }
   ],
   "source": [
    "!install.packages(\"boot\")"
   ]
  },
  {
   "cell_type": "code",
   "execution_count": 17,
   "id": "6a358651-564c-4e9f-8f99-7691f9158562",
   "metadata": {
    "tags": []
   },
   "outputs": [],
   "source": [
    "library(boot)"
   ]
  },
  {
   "cell_type": "markdown",
   "id": "9894b40e-6f64-48df-9580-e6b999e4dea4",
   "metadata": {},
   "source": [
    "# Resampling Methods"
   ]
  },
  {
   "cell_type": "markdown",
   "id": "0596bc72-074d-4242-9059-d04cf45de9a9",
   "metadata": {},
   "source": [
    "## Cross Validation"
   ]
  },
  {
   "cell_type": "markdown",
   "id": "c3b884a4-6bc1-4b23-87b6-478f7f4c2539",
   "metadata": {},
   "source": [
    "### The Validation Set Approach"
   ]
  },
  {
   "cell_type": "markdown",
   "id": "10ffd595-b9e7-4787-809b-f5b90aa72c0b",
   "metadata": {},
   "source": [
    "It involves randomly dividing the available set of observations into two parts, a **training set** and a **validation set** or **hold-out set**. \n",
    "\n",
    "**The model is fit on the training set**, and the fitted model is used to **predict the responses for the observations in the validation set**. The resulting validation\n",
    "set error rate---typically assessed using **MSE** in the case of a quantitative response---provides an estimate of the test error rate."
   ]
  },
  {
   "cell_type": "markdown",
   "id": "9030527a-9bd5-4aea-994f-7a179bb771e5",
   "metadata": {},
   "source": [
    "$$\n",
    "MSE = \\frac{1}{n}\\sum_{i=1}^{n}(y_i-\\hat{f}(x_i))^2\n",
    "$$"
   ]
  },
  {
   "cell_type": "code",
   "execution_count": 3,
   "id": "d1c68df8-f8a6-4857-9071-ce97dafebd27",
   "metadata": {
    "tags": []
   },
   "outputs": [],
   "source": [
    "set.seed(1)"
   ]
  },
  {
   "cell_type": "code",
   "execution_count": 7,
   "id": "7352b22d-824e-4987-8fc7-d7c85757d3de",
   "metadata": {
    "tags": []
   },
   "outputs": [],
   "source": [
    "train=sample(392,196) #split the set by selecting a random subset of 196 observations out of the original 392 "
   ]
  },
  {
   "cell_type": "code",
   "execution_count": 9,
   "id": "d89f29bc-63fe-4641-ac03-d90e8f221733",
   "metadata": {
    "tags": []
   },
   "outputs": [],
   "source": [
    "lm.fit = lm(mpg~horsepower, data = Auto, subset = train)"
   ]
  },
  {
   "cell_type": "code",
   "execution_count": 10,
   "id": "ce043320-b367-413a-ae81-8affe18426cf",
   "metadata": {
    "tags": []
   },
   "outputs": [
    {
     "data": {
      "text/html": [
       "23.8510378586169"
      ],
      "text/latex": [
       "23.8510378586169"
      ],
      "text/markdown": [
       "23.8510378586169"
      ],
      "text/plain": [
       "[1] 23.85104"
      ]
     },
     "metadata": {},
     "output_type": "display_data"
    }
   ],
   "source": [
    "attach(Auto)\n",
    "mean((mpg-predict(lm.fit,Auto))[-train]^2)"
   ]
  },
  {
   "cell_type": "code",
   "execution_count": 12,
   "id": "d60ce65e-877e-4fcd-973f-2fcca90abf7a",
   "metadata": {
    "tags": []
   },
   "outputs": [
    {
     "data": {
      "text/html": [
       "20.8616269172133"
      ],
      "text/latex": [
       "20.8616269172133"
      ],
      "text/markdown": [
       "20.8616269172133"
      ],
      "text/plain": [
       "[1] 20.86163"
      ]
     },
     "metadata": {},
     "output_type": "display_data"
    },
    {
     "data": {
      "text/html": [
       "21.1271433989027"
      ],
      "text/latex": [
       "21.1271433989027"
      ],
      "text/markdown": [
       "21.1271433989027"
      ],
      "text/plain": [
       "[1] 21.12714"
      ]
     },
     "metadata": {},
     "output_type": "display_data"
    }
   ],
   "source": [
    "lm.fit2 = lm(mpg~poly(horsepower, 2), data = Auto, subset = train)\n",
    "mean((mpg-predict(lm.fit2, Auto))[-train]^2)\n",
    "\n",
    "lm.fit3 = lm(mpg~poly(horsepower, 3), data = Auto, subset = train)\n",
    "mean((mpg-predict(lm.fit3, Auto))[-train]^2)"
   ]
  },
  {
   "cell_type": "markdown",
   "id": "d350a998-166a-4854-9ba3-51e9326f6d0e",
   "metadata": {},
   "source": [
    "### Leave-One-Out Cross-Validation (LOOCV)"
   ]
  },
  {
   "cell_type": "markdown",
   "id": "10445fa9-f28c-46b5-a76a-3579319fc4d9",
   "metadata": {},
   "source": [
    "LOOCV involves splitting the set of observations into two parts. However, instead of creating two subsets of comparable size, a single observation $(x_1, y_1)$ is used for the validation\n",
    "set, and the remaining observations $\\{(x_2, y_2), \\dots , (x_n, y_n)\\}$ make up the training set. The statistical learning method is fit on the $n − 1$ training\n",
    "observations, and a prediction $\\hat{y_1}$ is made for the excluded observation, using its value $x_1$. Since $(x_1, y_1)$ was not used in the fitting process, $MSE_1 = (y_1 − \\hat{y_1})^2$ provides an approximately unbiased estimate for the test error.\n",
    "\n",
    "We can repeat the procedure by selecting $(x_2, y_2)$ for the validation data, training the statistical learning procedure on the $n − 1$ observations \n",
    "$\\{(x_1, y_1), (x_3, y_3), \\dots , (x_n, y_n)\\}$, and computing $MSE_2 = (y_2−\\hat{y_2})^2$. \n",
    "\n",
    "Repeating this approach $n$ times produces $n$ squared errors, $MSE_1, \\dots , MSE_n$. The **LOOCV** estimate for the test **MSE** is the average of these n test error\n",
    "estimates:\n",
    "\n",
    "$$\n",
    "CV_{(n)} = \\frac{1}{n}\\sum_{i=1}^{n}MSE_i\n",
    "$$"
   ]
  },
  {
   "cell_type": "code",
   "execution_count": 13,
   "id": "e902a03c-ecd3-4ad9-98d1-b6bafcf44a64",
   "metadata": {
    "tags": []
   },
   "outputs": [
    {
     "data": {
      "text/html": [
       "<style>\n",
       ".dl-inline {width: auto; margin:0; padding: 0}\n",
       ".dl-inline>dt, .dl-inline>dd {float: none; width: auto; display: inline-block}\n",
       ".dl-inline>dt::after {content: \":\\0020\"; padding-right: .5ex}\n",
       ".dl-inline>dt:not(:first-of-type) {padding-left: .5ex}\n",
       "</style><dl class=dl-inline><dt>(Intercept)</dt><dd>39.9358610211705</dd><dt>horsepower</dt><dd>-0.157844733353654</dd></dl>\n"
      ],
      "text/latex": [
       "\\begin{description*}\n",
       "\\item[(Intercept)] 39.9358610211705\n",
       "\\item[horsepower] -0.157844733353654\n",
       "\\end{description*}\n"
      ],
      "text/markdown": [
       "(Intercept)\n",
       ":   39.9358610211705horsepower\n",
       ":   -0.157844733353654\n",
       "\n"
      ],
      "text/plain": [
       "(Intercept)  horsepower \n",
       " 39.9358610  -0.1578447 "
      ]
     },
     "metadata": {},
     "output_type": "display_data"
    }
   ],
   "source": [
    "glm.fit = glm(mpg~horsepower, data = Auto)\n",
    "coef(glm.fit)"
   ]
  },
  {
   "cell_type": "code",
   "execution_count": 14,
   "id": "03169a2d-a68a-4d36-92d3-ddee224cc99a",
   "metadata": {
    "tags": []
   },
   "outputs": [
    {
     "data": {
      "text/html": [
       "<style>\n",
       ".dl-inline {width: auto; margin:0; padding: 0}\n",
       ".dl-inline>dt, .dl-inline>dd {float: none; width: auto; display: inline-block}\n",
       ".dl-inline>dt::after {content: \":\\0020\"; padding-right: .5ex}\n",
       ".dl-inline>dt:not(:first-of-type) {padding-left: .5ex}\n",
       "</style><dl class=dl-inline><dt>(Intercept)</dt><dd>39.9358610211705</dd><dt>horsepower</dt><dd>-0.157844733353654</dd></dl>\n"
      ],
      "text/latex": [
       "\\begin{description*}\n",
       "\\item[(Intercept)] 39.9358610211705\n",
       "\\item[horsepower] -0.157844733353654\n",
       "\\end{description*}\n"
      ],
      "text/markdown": [
       "(Intercept)\n",
       ":   39.9358610211705horsepower\n",
       ":   -0.157844733353654\n",
       "\n"
      ],
      "text/plain": [
       "(Intercept)  horsepower \n",
       " 39.9358610  -0.1578447 "
      ]
     },
     "metadata": {},
     "output_type": "display_data"
    }
   ],
   "source": [
    "lm.fit = lm(mpg~horsepower, data = Auto)\n",
    "coef(lm.fit)"
   ]
  },
  {
   "cell_type": "code",
   "execution_count": 19,
   "id": "5abb260d-e429-4af0-8e57-33d8272c225c",
   "metadata": {
    "tags": []
   },
   "outputs": [
    {
     "data": {
      "text/html": [
       "<style>\n",
       ".list-inline {list-style: none; margin:0; padding: 0}\n",
       ".list-inline>li {display: inline-block}\n",
       ".list-inline>li:not(:last-child)::after {content: \"\\00b7\"; padding: 0 .5ex}\n",
       "</style>\n",
       "<ol class=list-inline><li>24.2315135179292</li><li>24.2311440937562</li></ol>\n"
      ],
      "text/latex": [
       "\\begin{enumerate*}\n",
       "\\item 24.2315135179292\n",
       "\\item 24.2311440937562\n",
       "\\end{enumerate*}\n"
      ],
      "text/markdown": [
       "1. 24.2315135179292\n",
       "2. 24.2311440937562\n",
       "\n",
       "\n"
      ],
      "text/plain": [
       "[1] 24.23151 24.23114"
      ]
     },
     "metadata": {},
     "output_type": "display_data"
    }
   ],
   "source": [
    "glm.fit = glm(mpg~horsepower, data = Auto)\n",
    "cv.err = cv.glm(Auto, glm.fit)\n",
    "cv.err$delta"
   ]
  },
  {
   "cell_type": "code",
   "execution_count": 22,
   "id": "9b03aa5e-3cdd-480d-9607-0e81bec09986",
   "metadata": {
    "tags": []
   },
   "outputs": [
    {
     "data": {
      "text/html": [
       "<style>\n",
       ".list-inline {list-style: none; margin:0; padding: 0}\n",
       ".list-inline>li {display: inline-block}\n",
       ".list-inline>li:not(:last-child)::after {content: \"\\00b7\"; padding: 0 .5ex}\n",
       "</style>\n",
       "<ol class=list-inline><li>24.2315135179292</li><li>19.2482131244897</li><li>19.3349840640291</li><li>19.4244303104302</li><li>19.0332138547041</li></ol>\n"
      ],
      "text/latex": [
       "\\begin{enumerate*}\n",
       "\\item 24.2315135179292\n",
       "\\item 19.2482131244897\n",
       "\\item 19.3349840640291\n",
       "\\item 19.4244303104302\n",
       "\\item 19.0332138547041\n",
       "\\end{enumerate*}\n"
      ],
      "text/markdown": [
       "1. 24.2315135179292\n",
       "2. 19.2482131244897\n",
       "3. 19.3349840640291\n",
       "4. 19.4244303104302\n",
       "5. 19.0332138547041\n",
       "\n",
       "\n"
      ],
      "text/plain": [
       "[1] 24.23151 19.24821 19.33498 19.42443 19.03321"
      ]
     },
     "metadata": {},
     "output_type": "display_data"
    }
   ],
   "source": [
    "cv.error = rep(0,5)\n",
    "for (i in 1:5) {\n",
    "    glm.fit = glm(mpg~poly(horsepower, i), data = Auto)\n",
    "    cv.error[i] = cv.glm(Auto, glm.fit)$delta[1]\n",
    "}\n",
    "cv.error"
   ]
  },
  {
   "cell_type": "markdown",
   "id": "faf8b23b-e0d7-475d-8125-9f41d3e97099",
   "metadata": {},
   "source": [
    "### k-Fold Cross Validation (k-fold CV)"
   ]
  },
  {
   "cell_type": "markdown",
   "id": "60960507-c56f-4077-b5e2-6ad67d96b123",
   "metadata": {},
   "source": [
    "An alternative to **LOOCV** is k-fold CV. This approach involves randomly dividing the set of observations into $k$ groups, or folds, of approximately equal size. The first fold is treated as a validation set, and the method is fit on the remaining $k − 1$ folds. The mean squared error, $MSE_1$, is then computed on the observations in the held-out fold. This procedure is repeated $k$ times; each time, a different group of observations is treated as a validation set. This process results in $k$ estimates of the test error, $MSE_1,MSE_2, \\dots ,MSE_k$. The k-fold CV estimate is computed by averaging\n",
    "these values,\n",
    "\n",
    "$$\n",
    "CV_{(k)} = \\frac{1}{k}\\sum_{i=1}^{k}MSE_i\n",
    "$$"
   ]
  },
  {
   "cell_type": "code",
   "execution_count": 23,
   "id": "c62bdd91-7a39-4bec-857b-7a0fdc70f535",
   "metadata": {
    "tags": []
   },
   "outputs": [
    {
     "data": {
      "text/html": [
       "<style>\n",
       ".list-inline {list-style: none; margin:0; padding: 0}\n",
       ".list-inline>li {display: inline-block}\n",
       ".list-inline>li:not(:last-child)::after {content: \"\\00b7\"; padding: 0 .5ex}\n",
       "</style>\n",
       "<ol class=list-inline><li>24.2720671232254</li><li>19.2690928085129</li><li>19.3480535605547</li><li>19.2949648229745</li><li>19.0319790002896</li><li>18.8978121056401</li><li>19.1206066690695</li><li>19.1466631054789</li><li>18.8701307442148</li><li>20.9552042280394</li></ol>\n"
      ],
      "text/latex": [
       "\\begin{enumerate*}\n",
       "\\item 24.2720671232254\n",
       "\\item 19.2690928085129\n",
       "\\item 19.3480535605547\n",
       "\\item 19.2949648229745\n",
       "\\item 19.0319790002896\n",
       "\\item 18.8978121056401\n",
       "\\item 19.1206066690695\n",
       "\\item 19.1466631054789\n",
       "\\item 18.8701307442148\n",
       "\\item 20.9552042280394\n",
       "\\end{enumerate*}\n"
      ],
      "text/markdown": [
       "1. 24.2720671232254\n",
       "2. 19.2690928085129\n",
       "3. 19.3480535605547\n",
       "4. 19.2949648229745\n",
       "5. 19.0319790002896\n",
       "6. 18.8978121056401\n",
       "7. 19.1206066690695\n",
       "8. 19.1466631054789\n",
       "9. 18.8701307442148\n",
       "10. 20.9552042280394\n",
       "\n",
       "\n"
      ],
      "text/plain": [
       " [1] 24.27207 19.26909 19.34805 19.29496 19.03198 18.89781 19.12061 19.14666\n",
       " [9] 18.87013 20.95520"
      ]
     },
     "metadata": {},
     "output_type": "display_data"
    }
   ],
   "source": [
    "set.seed(17)\n",
    "cv.error.10 = rep(0,10)\n",
    "for (i in 1:10) {\n",
    "    glm.fit = glm(mpg~poly(horsepower, i), data = Auto)\n",
    "    cv.error.10[i] = cv.glm(Auto, glm.fit, K = 10)$delta[1]\n",
    "}\n",
    "cv.error.10"
   ]
  },
  {
   "cell_type": "markdown",
   "id": "605a491e-b46f-4fea-acec-bc0c805c8b1a",
   "metadata": {},
   "source": [
    "## The Bootstrap"
   ]
  },
  {
   "cell_type": "code",
   "execution_count": 26,
   "id": "4adc62c6-cfea-4930-9c92-08f006f2f2ad",
   "metadata": {
    "tags": []
   },
   "outputs": [],
   "source": [
    "alpha.fn = function(data, index) {\n",
    "    X = data$X[index]\n",
    "    Y = data$Y[index]\n",
    "    return ((var(Y) - cov(X,Y)) / (var(X) + var(Y) - 2 * cov(X, Y)))\n",
    "}"
   ]
  },
  {
   "cell_type": "code",
   "execution_count": 28,
   "id": "b0e64b37-cf3b-40cb-8cad-1477e3af0e17",
   "metadata": {
    "tags": []
   },
   "outputs": [
    {
     "data": {
      "text/html": [
       "0.57583207459283"
      ],
      "text/latex": [
       "0.57583207459283"
      ],
      "text/markdown": [
       "0.57583207459283"
      ],
      "text/plain": [
       "[1] 0.5758321"
      ]
     },
     "metadata": {},
     "output_type": "display_data"
    }
   ],
   "source": [
    "alpha.fn(Portfolio, 1:100)"
   ]
  },
  {
   "cell_type": "code",
   "execution_count": 29,
   "id": "3489b6c8-0c60-42f0-9abd-cf955af8db03",
   "metadata": {
    "tags": []
   },
   "outputs": [
    {
     "data": {
      "text/html": [
       "0.736837501928544"
      ],
      "text/latex": [
       "0.736837501928544"
      ],
      "text/markdown": [
       "0.736837501928544"
      ],
      "text/plain": [
       "[1] 0.7368375"
      ]
     },
     "metadata": {},
     "output_type": "display_data"
    }
   ],
   "source": [
    "set.seed(1)\n",
    "alpha.fn(Portfolio, sample(100, 100, replace = T))"
   ]
  },
  {
   "cell_type": "code",
   "execution_count": 30,
   "id": "50f589d6-4cc4-478a-967b-71ffdbfa1bb0",
   "metadata": {
    "tags": []
   },
   "outputs": [
    {
     "data": {
      "text/plain": [
       "\n",
       "ORDINARY NONPARAMETRIC BOOTSTRAP\n",
       "\n",
       "\n",
       "Call:\n",
       "boot(data = Portfolio, statistic = alpha.fn, R = 1000)\n",
       "\n",
       "\n",
       "Bootstrap Statistics :\n",
       "     original       bias    std. error\n",
       "t1* 0.5758321 -0.001695873  0.09366347"
      ]
     },
     "metadata": {},
     "output_type": "display_data"
    }
   ],
   "source": [
    "boot(Portfolio, alpha.fn, R = 1000)"
   ]
  },
  {
   "cell_type": "markdown",
   "id": "af0e7975-44d5-4f9e-b5a5-80a14488e896",
   "metadata": {},
   "source": [
    "### Estimating the Accuracy of a Linear Regression Model"
   ]
  },
  {
   "cell_type": "code",
   "execution_count": 31,
   "id": "d5feb94b-5b4c-46c1-8234-b22d086d7223",
   "metadata": {
    "tags": []
   },
   "outputs": [
    {
     "data": {
      "text/html": [
       "<style>\n",
       ".dl-inline {width: auto; margin:0; padding: 0}\n",
       ".dl-inline>dt, .dl-inline>dd {float: none; width: auto; display: inline-block}\n",
       ".dl-inline>dt::after {content: \":\\0020\"; padding-right: .5ex}\n",
       ".dl-inline>dt:not(:first-of-type) {padding-left: .5ex}\n",
       "</style><dl class=dl-inline><dt>(Intercept)</dt><dd>39.9358610211705</dd><dt>horsepower</dt><dd>-0.157844733353654</dd></dl>\n"
      ],
      "text/latex": [
       "\\begin{description*}\n",
       "\\item[(Intercept)] 39.9358610211705\n",
       "\\item[horsepower] -0.157844733353654\n",
       "\\end{description*}\n"
      ],
      "text/markdown": [
       "(Intercept)\n",
       ":   39.9358610211705horsepower\n",
       ":   -0.157844733353654\n",
       "\n"
      ],
      "text/plain": [
       "(Intercept)  horsepower \n",
       " 39.9358610  -0.1578447 "
      ]
     },
     "metadata": {},
     "output_type": "display_data"
    }
   ],
   "source": [
    "boot.fn = function(data, index)\n",
    "    return (coef(lm(mpg~horsepower, data = data, subset = index)))\n",
    "boot.fn(Auto, 1:392)"
   ]
  },
  {
   "cell_type": "code",
   "execution_count": 32,
   "id": "58ba3bf7-de64-4d1d-8f50-c38f39a06e3f",
   "metadata": {
    "tags": []
   },
   "outputs": [
    {
     "data": {
      "text/plain": [
       "\n",
       "ORDINARY NONPARAMETRIC BOOTSTRAP\n",
       "\n",
       "\n",
       "Call:\n",
       "boot(data = Auto, statistic = boot.fn, R = 1000)\n",
       "\n",
       "\n",
       "Bootstrap Statistics :\n",
       "      original        bias    std. error\n",
       "t1* 39.9358610  0.0412152338 0.832986409\n",
       "t2* -0.1578447 -0.0005105609 0.007228529"
      ]
     },
     "metadata": {},
     "output_type": "display_data"
    }
   ],
   "source": [
    "boot(Auto, boot.fn, 1000)"
   ]
  },
  {
   "cell_type": "code",
   "execution_count": 33,
   "id": "41342950-8fc0-4003-a80b-999f0c742e67",
   "metadata": {
    "tags": []
   },
   "outputs": [
    {
     "data": {
      "text/html": [
       "<table class=\"dataframe\">\n",
       "<caption>A matrix: 2 × 4 of type dbl</caption>\n",
       "<thead>\n",
       "\t<tr><th></th><th scope=col>Estimate</th><th scope=col>Std. Error</th><th scope=col>t value</th><th scope=col>Pr(&gt;|t|)</th></tr>\n",
       "</thead>\n",
       "<tbody>\n",
       "\t<tr><th scope=row>(Intercept)</th><td>39.9358610</td><td>0.717498656</td><td> 55.65984</td><td>1.220362e-187</td></tr>\n",
       "\t<tr><th scope=row>horsepower</th><td>-0.1578447</td><td>0.006445501</td><td>-24.48914</td><td> 7.031989e-81</td></tr>\n",
       "</tbody>\n",
       "</table>\n"
      ],
      "text/latex": [
       "A matrix: 2 × 4 of type dbl\n",
       "\\begin{tabular}{r|llll}\n",
       "  & Estimate & Std. Error & t value & Pr(>\\textbar{}t\\textbar{})\\\\\n",
       "\\hline\n",
       "\t(Intercept) & 39.9358610 & 0.717498656 &  55.65984 & 1.220362e-187\\\\\n",
       "\thorsepower & -0.1578447 & 0.006445501 & -24.48914 &  7.031989e-81\\\\\n",
       "\\end{tabular}\n"
      ],
      "text/markdown": [
       "\n",
       "A matrix: 2 × 4 of type dbl\n",
       "\n",
       "| <!--/--> | Estimate | Std. Error | t value | Pr(&gt;|t|) |\n",
       "|---|---|---|---|---|\n",
       "| (Intercept) | 39.9358610 | 0.717498656 |  55.65984 | 1.220362e-187 |\n",
       "| horsepower | -0.1578447 | 0.006445501 | -24.48914 |  7.031989e-81 |\n",
       "\n"
      ],
      "text/plain": [
       "            Estimate   Std. Error  t value   Pr(>|t|)     \n",
       "(Intercept) 39.9358610 0.717498656  55.65984 1.220362e-187\n",
       "horsepower  -0.1578447 0.006445501 -24.48914  7.031989e-81"
      ]
     },
     "metadata": {},
     "output_type": "display_data"
    }
   ],
   "source": [
    "summary(lm(mpg~horsepower, data = Auto))$coef"
   ]
  },
  {
   "cell_type": "code",
   "execution_count": null,
   "id": "bd89fce2-9197-49e1-b10e-522fa3c212b0",
   "metadata": {},
   "outputs": [],
   "source": []
  }
 ],
 "metadata": {
  "kernelspec": {
   "display_name": "R",
   "language": "R",
   "name": "ir"
  },
  "language_info": {
   "codemirror_mode": "r",
   "file_extension": ".r",
   "mimetype": "text/x-r-source",
   "name": "R",
   "pygments_lexer": "r",
   "version": "4.2.3"
  }
 },
 "nbformat": 4,
 "nbformat_minor": 5
}
